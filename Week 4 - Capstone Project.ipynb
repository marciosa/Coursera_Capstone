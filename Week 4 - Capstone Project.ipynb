{
 "cells": [
  {
   "cell_type": "markdown",
   "metadata": {},
   "source": [
    "# Capstone Project - The Battle of the Neighborhoods (Week 4)\n",
    "# Applied Data Science Capstone Course "
   ]
  },
  {
   "cell_type": "markdown",
   "metadata": {},
   "source": [
    "# Table of contents\n",
    "\n",
    "\n",
    "<ol>\n",
    "<li>Part 1 - Introduction: Business Problem</li>\n",
    "<li>Part 2 - Data Section</li>\n",
    "<li>...</li>\n",
    "</ol>\n",
    "\n"
   ]
  },
  {
   "cell_type": "markdown",
   "metadata": {},
   "source": [
    "# Part 1 - Introduction: Business Problem\n",
    "Imagine that you are a traveller who loves Japanese food. And, you you will visit NY city and Toronto in the upcoming days. This study will allow you to find the city holding the major number of Japanese restaurants. \n",
    "\n",
    "Or... imagine that you are a highly skilled sushiman wanting to move over and work in a big city in North America. You want to know what city you will find more job work opportunities as a sushi man. \n",
    "\n",
    "It is well known that both New York and Toronto cities have a large number of immigrants and, by using this study we will be able to identify what city has more japanese restaurants. And, besides immigrants, local people may like japanese food also and this way justify the number of japanese restaurants. \n",
    "\n",
    "So, in summary, the goal of this study is to identify in what city you will find more opportunities to find a japanese restaurant. Besides the numbers, it will be provided additional information and maps to justify the chosen city. Of course, this study reflects current information and it may be used in the future to get more updated information.\n",
    "\n",
    "## Business goal\n",
    "\n",
    "The goal of this study is to identify between New York and Toronto cities, where you are most likely to find Japanese restaurants. This study may be useful for travellers (that like japanese food of course) as well as sushimen professionals trying to find the best city to live and work. For them, the more japanese restaurants in the city, more job opportunities they will have.\n",
    "\n",
    "\n",
    "## Target Audience\n",
    "This study may be used by anyone interested in Japanese food. No matter if you are a local, traveller or a sushiman looking for a new job and a new city to work. "
   ]
  },
  {
   "cell_type": "markdown",
   "metadata": {},
   "source": [
    "![A test image](japanese-food-doodles_23-2147516965.png)]"
   ]
  },
  {
   "cell_type": "markdown",
   "metadata": {},
   "source": [
    "# Part 2 - Data Section\n",
    "Following data sources will be used to get the required information:\n",
    "\n",
    "<ol>\n",
    "<li>Wikipedia will be used scrap Toronto and New York neighborhoods;</li>\n",
    "<li>Geocoder will be used to get Latitude and Longitude information;</li>\n",
    "<li>Foursquare API will be used to get restaurants data related to these 2 cities.</li>\n",
    "\n",
    "</ol>\n",
    "\n",
    "Above data sources will be used to get venues and japanese restaurants information in order to identify in what city we have more Japanese restaurants and, this way, more opportunities for travellers and professionals. \n",
    "\n",
    "## Data flow\n",
    "First, it will be used the Wikipedia site to get cities information. In the sequence, it will be used Geocoder to get latitude and longitude information of the cities. And then, Foursquare is used to get a list of Japanese restaurants and identify what city is a best target for Japanese-food lovers. \n",
    "\n",
    "Besides the number of restaurantes per city, it will be verified the number of people living in this city as well as some information about the most common places to find Japanese restaurants in both cities."
   ]
  },
  {
   "cell_type": "markdown",
   "metadata": {},
   "source": [
    "\n"
   ]
  },
  {
   "cell_type": "code",
   "execution_count": null,
   "metadata": {},
   "outputs": [],
   "source": []
  }
 ],
 "metadata": {
  "language_info": {
   "codemirror_mode": {
    "name": "ipython",
    "version": 3
   },
   "file_extension": ".py",
   "mimetype": "text/x-python",
   "name": "python",
   "nbconvert_exporter": "python",
   "pygments_lexer": "ipython3",
   "version": "3.8.3-final"
  },
  "orig_nbformat": 2,
  "kernelspec": {
   "name": "python38332bitb9aa25b1d4de418c9523fc73474694e6",
   "display_name": "Python 3.8.3 32-bit"
  }
 },
 "nbformat": 4,
 "nbformat_minor": 2
}