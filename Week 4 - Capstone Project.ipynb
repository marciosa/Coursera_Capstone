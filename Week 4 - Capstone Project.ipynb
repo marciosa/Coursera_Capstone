{
 "cells": [
  {
   "cell_type": "markdown",
   "metadata": {},
   "source": [
    "# Capstone Project - The Battle of the Neighborhoods (Week 4)\n",
    "## Applied Data Science Capstone Course - Marciosa's submission"
   ]
  },
  {
   "cell_type": "markdown",
   "metadata": {},
   "source": [
    "## Table of contents\n",
    "\n",
    "\n",
    "<ol>\n",
    "<li>Part 1 - Introduction: Business Problem</li>\n",
    "<li>Part 2 - Data Section</li>\n",
    "<li>...</li>\n",
    "</ol>\n",
    "\n"
   ]
  },
  {
   "cell_type": "markdown",
   "metadata": {},
   "source": [
    "## Part 1 - Introduction: Business Problem\n",
    "The goal of this study is to identify between New York and Toronto cities, where you are most likely to find Japanese restaurants. This study may be useful for travelers (that like japanese food of course) as well as sushimen professionals trying to find the best city to live and work. For them, the more japanese restaurants in the city, more job opportunities they will have.\n",
    "\n",
    "It is well known that both New York and Toronto cities have a large number of immigrants and, by using this study we will be able to identify what city has more japanese restaurants. And, besides immigrants, local people may like japanese food also and this way justify the number of japanese restaurants. \n",
    "\n",
    "So, in summary, the goal of this study is to identify in what city you will find more opportunities to find a japanese restaurant. Besides the numbers we will provide additional information and maps to justify the chosen city. Of course, this study reflects current information and it may be used in the future to get more updated information."
   ]
  },
  {
   "cell_type": "markdown",
   "metadata": {},
   "source": [
    "## Part 2 - Data Section\n",
    "Following data sources will be used to get the required information:\n",
    "\n",
    "<ol>\n",
    "<li>Wikipedia site to get cities information;</li>\n",
    "<li>Foursquare API to get venues and restaurants location information;</li>\n",
    "<li>Geocoder to get restaurants location geographic information;</li>\n",
    "</ol>\n",
    "\n",
    "Above data sources will be used to get venues and japanese restaurants information in order to identify in what city we have more Japanese restaurants and, this way, more opportunities for travellers and professionals. \n"
   ]
  },
  {
   "cell_type": "markdown",
   "metadata": {},
   "source": [
    "\n"
   ]
  },
  {
   "cell_type": "code",
   "execution_count": null,
   "metadata": {},
   "outputs": [],
   "source": []
  }
 ],
 "metadata": {
  "language_info": {
   "codemirror_mode": {
    "name": "ipython",
    "version": 3
   },
   "file_extension": ".py",
   "mimetype": "text/x-python",
   "name": "python",
   "nbconvert_exporter": "python",
   "pygments_lexer": "ipython3",
   "version": "3.8.3-final"
  },
  "orig_nbformat": 2,
  "kernelspec": {
   "name": "python38332bitb9aa25b1d4de418c9523fc73474694e6",
   "display_name": "Python 3.8.3 32-bit"
  }
 },
 "nbformat": 4,
 "nbformat_minor": 2
}